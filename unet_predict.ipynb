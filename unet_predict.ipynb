{
  "nbformat": 4,
  "nbformat_minor": 0,
  "metadata": {
    "colab": {
      "name": "unet-predict.ipynb",
      "version": "0.3.2",
      "provenance": [],
      "collapsed_sections": []
    },
    "kernelspec": {
      "name": "python3",
      "display_name": "Python 3"
    },
    "accelerator": "GPU"
  },
  "cells": [
    {
      "metadata": {
        "id": "LtusASJII-7L",
        "colab_type": "code",
        "colab": {
          "base_uri": "https://localhost:8080/",
          "height": 34
        },
        "outputId": "2176a8fc-6972-49d4-dcb3-dc9539cf6fee"
      },
      "cell_type": "code",
      "source": [
        "import argparse\n",
        "from glob import glob\n",
        "\n",
        "import numpy as np\n",
        "from PIL import Image\n",
        "from keras import backend as K\n",
        "from keras import losses\n",
        "from keras.callbacks import ModelCheckpoint, EarlyStopping, ReduceLROnPlateau\n",
        "from keras.layers import Input, MaxPooling2D\n",
        "from keras.layers import concatenate, Conv2D, Conv2DTranspose, Dropout, ReLU\n",
        "from keras.models import Model\n",
        "from keras.optimizers import Adam\n",
        "from numpy import random\n",
        "import tensorflow as tf\n",
        "from random import randint\n",
        "import keras\n",
        "from keras_preprocessing import image\n",
        "import cv2\n",
        "import matplotlib.pyplot as plt\n",
        "from sklearn.model_selection import KFold\n",
        "\n",
        "from skimage.transform import resize\n",
        "from skimage.morphology import label\n",
        "from pycocotools import mask as maskUtils\n",
        "from tqdm import tqdm\n",
        "import os\n",
        "from sklearn.metrics import roc_auc_score"
      ],
      "execution_count": 1,
      "outputs": [
        {
          "output_type": "stream",
          "text": [
            "Using TensorFlow backend.\n"
          ],
          "name": "stderr"
        }
      ]
    },
    {
      "metadata": {
        "id": "c7OHbuLYJJuN",
        "colab_type": "code",
        "colab": {}
      },
      "cell_type": "code",
      "source": [
        "batch_size = 16\n",
        "input_shape = (64, 64)\n",
        "\n",
        "def get_unet(do=0, activation=ReLU):\n",
        "    inputs = Input((None, None, 3))\n",
        "    conv1 = Dropout(do)(activation()(Conv2D(32, (3, 3), padding='same')(inputs)))\n",
        "    conv1 = Dropout(do)(activation()(Conv2D(32, (3, 3), padding='same')(conv1)))\n",
        "    pool1 = MaxPooling2D(pool_size=(2, 2))(conv1)\n",
        "\n",
        "    conv2 = Dropout(do)(activation()(Conv2D(64, (3, 3), padding='same')(pool1)))\n",
        "    conv2 = Dropout(do)(activation()(Conv2D(64, (3, 3), padding='same')(conv2)))\n",
        "    pool2 = MaxPooling2D(pool_size=(2, 2))(conv2)\n",
        "\n",
        "    conv3 = Dropout(do)(activation()(Conv2D(128, (3, 3), padding='same')(pool2)))\n",
        "    conv3 = Dropout(do)(activation()(Conv2D(128, (3, 3), padding='same')(conv3)))\n",
        "    pool3 = MaxPooling2D(pool_size=(2, 2))(conv3)\n",
        "\n",
        "    conv4 = Dropout(do)(activation()(Conv2D(256, (3, 3), padding='same')(pool3)))\n",
        "    conv4 = Dropout(do)(activation()(Conv2D(256, (3, 3), padding='same')(conv4)))\n",
        "    pool4 = MaxPooling2D(pool_size=(2, 2))(conv4)\n",
        "\n",
        "    conv5 = Dropout(do)(activation()(Conv2D(512, (3, 3), padding='same')(pool4)))\n",
        "    conv5 = Dropout(do)(activation()(Conv2D(512, (3, 3), padding='same')(conv5)))\n",
        "\n",
        "    up6 = concatenate([Conv2DTranspose(256, (2, 2), strides=(2, 2), padding='same')(conv5), conv4], axis=3)\n",
        "    conv6 = Dropout(do)(activation()(Conv2D(256, (3, 3), padding='same')(up6)))\n",
        "    conv6 = Dropout(do)(activation()(Conv2D(256, (3, 3), padding='same')(conv6)))\n",
        "\n",
        "    up7 = concatenate([Conv2DTranspose(128, (2, 2), strides=(2, 2), padding='same')(conv6), conv3], axis=3)\n",
        "    conv7 = Dropout(do)(activation()(Conv2D(128, (3, 3), padding='same')(up7)))\n",
        "    conv7 = Dropout(do)(activation()(Conv2D(128, (3, 3), padding='same')(conv7)))\n",
        "\n",
        "    up8 = concatenate([Conv2DTranspose(64, (2, 2), strides=(2, 2), padding='same')(conv7), conv2], axis=3)\n",
        "    conv8 = Dropout(do)(activation()(Conv2D(64, (3, 3), padding='same')(up8)))\n",
        "    conv8 = Dropout(do)(activation()(Conv2D(64, (3, 3), padding='same')(conv8)))\n",
        "\n",
        "    up9 = concatenate([Conv2DTranspose(32, (2, 2), strides=(2, 2), padding='same')(conv8), conv1], axis=3)\n",
        "    conv9 = Dropout(do)(activation()(Conv2D(32, (3, 3), padding='same')(up9)))\n",
        "    conv9 = Dropout(do)(activation()(Conv2D(32, (3, 3), padding='same')(conv9)))\n",
        "\n",
        "    conv10 = Conv2D(1, (1, 1), activation='sigmoid')(conv9)\n",
        "\n",
        "    model = Model(inputs=[inputs], outputs=[conv10])\n",
        "\n",
        "    model.compile(optimizer=Adam(lr=1e-3), loss=losses.binary_crossentropy, metrics=['accuracy'])\n",
        "\n",
        "\n",
        "    return model\n",
        "\n",
        "\n",
        "def read_input(path):\n",
        "    x = np.array(Image.open(path))/255.\n",
        "    return x\n",
        "\n",
        "\n",
        "def read_gt(path):\n",
        "    x = np.array(Image.open(path))/255.\n",
        "    return x[..., np.newaxis]\n",
        "\n",
        "\n",
        "def random_crop(img, mask, crop_size=input_shape[0]):\n",
        "    imgheight= img.shape[0]\n",
        "    imgwidth = img.shape[1]\n",
        "    i = randint(0, imgheight-crop_size)\n",
        "    j = randint(0, imgwidth-crop_size)\n",
        "\n",
        "    return img[i:(i+crop_size), j:(j+crop_size), :], mask[i:(i+crop_size), j:(j+crop_size)]\n",
        "\n",
        "\n",
        "def gen(data):\n",
        "    while True:\n",
        "        repeat = 4\n",
        "        index= random.choice(list(range(len(data))), batch_size//repeat)\n",
        "        index = list(map(int, index))\n",
        "        list_images_base = [read_input(data[i][0]) for i in index]\n",
        "        list_gt_base = [read_gt(data[i][1]) for i in index]\n",
        "\n",
        "        list_images = []\n",
        "        list_gt = []\n",
        "\n",
        "        for image, gt in zip(list_images_base, list_gt_base):\n",
        "\n",
        "            for _ in range(repeat):\n",
        "                image_, gt_ = random_crop(image.copy(), gt.copy())\n",
        "                list_images.append(image_)\n",
        "                list_gt.append(gt_)\n",
        "\n",
        "        yield np.array(list_images), np.array(list_gt)\n"
      ],
      "execution_count": 0,
      "outputs": []
    },
    {
      "metadata": {
        "id": "a4UnLJcPJpSW",
        "colab_type": "code",
        "colab": {}
      },
      "cell_type": "code",
      "source": [
        "batchsize = 4\n",
        "input_shape = (576, 576)\n",
        "\n",
        "def batch(iterable, n=batchsize):\n",
        "    l = len(iterable)\n",
        "    for ndx in range(0, l, n):\n",
        "        yield iterable[ndx:min(ndx + n, l)]\n",
        "\n",
        "\n",
        "def read_input(path):\n",
        "    x = np.array(Image.open(path))/255.\n",
        "    return x\n",
        "\n",
        "\n",
        "def read_gt(path):\n",
        "    x = np.array(Image.open(path))\n",
        "    return x[..., np.newaxis]/np.max(x)\n",
        "  \n",
        "  \n",
        "def plot_images(*images):\n",
        "    images = list(images)\n",
        "    n = len(images)\n",
        "    fig, ax = plt.subplots(ncols=n, sharey=True)\n",
        "    fig.set_size_inches(12,4)\n",
        "    for i, img in enumerate(images):\n",
        "        ax[i].imshow(img, cmap='gray')\n",
        "        ax[i].axis('off')\n",
        "    plt.subplots_adjust(left=0.03, bottom=0.03, right=0.97, top=0.97)\n",
        "    plt.show()"
      ],
      "execution_count": 0,
      "outputs": []
    },
    {
      "metadata": {
        "id": "EeLYEYo8JKCf",
        "colab_type": "code",
        "colab": {}
      },
      "cell_type": "code",
      "source": [
        "activation = globals()[\"ReLU\"]\n",
        "dropout = 0.1\n",
        "\n",
        "val_data = list(zip(sorted(glob('DRIVE/test/images/*.tif')),\n",
        "                          sorted(glob('DRIVE/test/1st_manual/*.gif')),\n",
        "                        sorted(glob('DRIVE/test/mask/*.gif'))))\n",
        "\n",
        "model = get_unet(do=dropout, activation=activation)"
      ],
      "execution_count": 0,
      "outputs": []
    },
    {
      "metadata": {
        "id": "xtgiZ5dKJKXs",
        "colab_type": "code",
        "colab": {}
      },
      "cell_type": "code",
      "source": [
        "model.load_weights(\"final2.hdf5\")"
      ],
      "execution_count": 0,
      "outputs": []
    },
    {
      "metadata": {
        "id": "5VOVJp7DJKp7",
        "colab_type": "code",
        "colab": {
          "base_uri": "https://localhost:8080/",
          "height": 142
        },
        "outputId": "13ba6d29-c5ca-4b76-9283-efb5de533a5f"
      },
      "cell_type": "code",
      "source": [
        "gt_list = []\n",
        "pred_list = []\n",
        "\n",
        "for batch_files in batch(val_data):\n",
        "\n",
        "    imgs = [resize(read_input(image_path[0]), input_shape) for image_path in batch_files]\n",
        "    seg = [read_gt(image_path[1]) for image_path in batch_files]\n",
        "    mask = [read_gt(image_path[2]) for image_path in batch_files]\n",
        "\n",
        "    imgs = np.array(imgs)\n",
        "\n",
        "    pred = model.predict(imgs)\n",
        "\n",
        "    pred_all = (pred)\n",
        "\n",
        "    pred = np.clip(pred, 0, 1)\n",
        "\n",
        "    for i, image_path in enumerate(batch_files):\n",
        "\n",
        "        pred_ = pred[i, :, :, 0]\n",
        "\n",
        "        pred_ = resize(pred_, (584, 565))\n",
        "\n",
        "        mask_ = mask[i]\n",
        "\n",
        "        gt_ = (seg[i]>0.5).astype(int)\n",
        "\n",
        "        gt_list += gt_.flatten().tolist()\n",
        "        pred_list += pred_.flatten().tolist()\n",
        "\n",
        "        pred_ = 255.*(pred_ - np.min(pred_))/(np.max(pred_)-np.min(pred_))\n",
        "        #plot_images(read_input(image_path[0]), pred_, read_input(image_path[1]))\n",
        "\n",
        "\n",
        "print(len(gt_list), len(pred_list))\n",
        "print(\"AUC ROC : \", roc_auc_score(gt_list, pred_list))"
      ],
      "execution_count": 19,
      "outputs": [
        {
          "output_type": "stream",
          "text": [
            "/usr/local/lib/python3.6/dist-packages/skimage/transform/_warps.py:105: UserWarning: The default mode, 'constant', will be changed to 'reflect' in skimage 0.15.\n",
            "  warn(\"The default mode, 'constant', will be changed to 'reflect' in \"\n",
            "/usr/local/lib/python3.6/dist-packages/skimage/transform/_warps.py:110: UserWarning: Anti-aliasing will be enabled by default in skimage 0.15 to avoid aliasing artifacts when down-sampling images.\n",
            "  warn(\"Anti-aliasing will be enabled by default in skimage 0.15 to \"\n"
          ],
          "name": "stderr"
        },
        {
          "output_type": "stream",
          "text": [
            "6599200 6599200\n",
            "AUC ROC :  0.981183861186641\n"
          ],
          "name": "stdout"
        }
      ]
    },
    {
      "metadata": {
        "id": "XLchObcH7g8t",
        "colab_type": "code",
        "colab": {}
      },
      "cell_type": "code",
      "source": [
        "from sklearn.metrics import confusion_matrix\n",
        "from sklearn import svm, datasets\n",
        "from sklearn.model_selection import train_test_split\n",
        "from sklearn.metrics import confusion_matrix\n",
        "from sklearn.utils.multiclass import unique_labels\n",
        "\n",
        "def plot_confusion_matrix(cm,\n",
        "                          target_names,\n",
        "                          title='Confusion matrix',\n",
        "                          cmap=None,\n",
        "                          normalize=True):\n",
        "    \"\"\"\n",
        "    given a sklearn confusion matrix (cm), make a nice plot\n",
        "\n",
        "    Arguments\n",
        "    ---------\n",
        "    cm:           confusion matrix from sklearn.metrics.confusion_matrix\n",
        "\n",
        "    target_names: given classification classes such as [0, 1, 2]\n",
        "                  the class names, for example: ['high', 'medium', 'low']\n",
        "\n",
        "    title:        the text to display at the top of the matrix\n",
        "\n",
        "    cmap:         the gradient of the values displayed from matplotlib.pyplot.cm\n",
        "                  see http://matplotlib.org/examples/color/colormaps_reference.html\n",
        "                  plt.get_cmap('jet') or plt.cm.Blues\n",
        "\n",
        "    normalize:    If False, plot the raw numbers\n",
        "                  If True, plot the proportions\n",
        "\n",
        "    Usage\n",
        "    -----\n",
        "    plot_confusion_matrix(cm           = cm,                  # confusion matrix created by\n",
        "                                                              # sklearn.metrics.confusion_matrix\n",
        "                          normalize    = True,                # show proportions\n",
        "                          target_names = y_labels_vals,       # list of names of the classes\n",
        "                          title        = best_estimator_name) # title of graph\n",
        "\n",
        "    Citiation\n",
        "    ---------\n",
        "    http://scikit-learn.org/stable/auto_examples/model_selection/plot_confusion_matrix.html\n",
        "\n",
        "    \"\"\"\n",
        "    import matplotlib.pyplot as plt\n",
        "    import numpy as np\n",
        "    import itertools\n",
        "\n",
        "    accuracy = np.trace(cm) / float(np.sum(cm))\n",
        "    misclass = 1 - accuracy\n",
        "\n",
        "    if cmap is None:\n",
        "        cmap = plt.get_cmap('Blues')\n",
        "\n",
        "    plt.figure(figsize=(8, 6))\n",
        "    plt.imshow(cm, interpolation='nearest', cmap=cmap)\n",
        "    plt.title(title)\n",
        "    plt.colorbar()\n",
        "\n",
        "    if target_names is not None:\n",
        "        tick_marks = np.arange(len(target_names))\n",
        "        plt.xticks(tick_marks, target_names, rotation=45)\n",
        "        plt.yticks(tick_marks, target_names)\n",
        "\n",
        "    if normalize:\n",
        "        cm = cm.astype('float') / cm.sum(axis=1)[:, np.newaxis]\n",
        "\n",
        "\n",
        "    thresh = cm.max() / 1.5 if normalize else cm.max() / 2\n",
        "    for i, j in itertools.product(range(cm.shape[0]), range(cm.shape[1])):\n",
        "        if normalize:\n",
        "            plt.text(j, i, \"{:0.4f}\".format(cm[i, j]),\n",
        "                     horizontalalignment=\"center\",\n",
        "                     color=\"white\" if cm[i, j] > thresh else \"black\")\n",
        "        else:\n",
        "            plt.text(j, i, \"{:,}\".format(cm[i, j]),\n",
        "                     horizontalalignment=\"center\",\n",
        "                     color=\"white\" if cm[i, j] > thresh else \"black\")\n",
        "\n",
        "\n",
        "    plt.tight_layout()\n",
        "    plt.ylabel('True label')\n",
        "    plt.xlabel('Predicted label\\naccuracy={:0.4f}; misclass={:0.4f}'.format(accuracy, misclass))\n",
        "    plt.show()"
      ],
      "execution_count": 0,
      "outputs": []
    },
    {
      "metadata": {
        "id": "bxdDqnJk7iOz",
        "colab_type": "code",
        "colab": {
          "base_uri": "https://localhost:8080/",
          "height": 467
        },
        "outputId": "5026c112-5371-4133-9931-01c16f48342a"
      },
      "cell_type": "code",
      "source": [
        "pred_arr = np.array(pred_list)\n",
        "pred_arr[pred_arr >= 0.5] = 1\n",
        "pred_arr[pred_arr <0.5] = 0\n",
        "cm = confusion_matrix(np.array(gt_list),pred_arr)\n",
        "\n",
        "plot_confusion_matrix(cm=cm, target_names=['no vessel', 'vessel'], normalize=False,\n",
        "                      title='Confusion matrix for cnn')"
      ],
      "execution_count": 21,
      "outputs": [
        {
          "output_type": "display_data",
          "data": {
            "image/png": "[encoded data removed]",
            "text/plain": [
              "<Figure size 576x432 with 2 Axes>"
            ]
          },
          "metadata": {
            "tags": []
          }
        }
      ]
    },
    {
      "metadata": {
        "id": "EgupsViEJK7X",
        "colab_type": "code",
        "colab": {
          "base_uri": "https://localhost:8080/",
          "height": 458
        },
        "outputId": "a742d248-06b6-4d3b-f47d-0ecd4e1b93e2"
      },
      "cell_type": "code",
      "source": [
        "from sklearn.metrics import roc_auc_score, roc_curve\n",
        "fpr, tpr, _ = roc_curve(gt_list,pred_list)\n",
        "auc = roc_auc_score(gt_list,pred_list)\n",
        "plt.figure(figsize=(10,7))\n",
        "plt.plot(fpr,tpr,label=\"Simple classification, auc=\"+str(auc))\n",
        "plt.legend(loc=4)\n",
        "plt.title('ROC Curves')\n",
        "plt.xlabel('False Positives Rate')\n",
        "plt.ylabel('True Positives Rate')\n",
        "plt.show()"
      ],
      "execution_count": 23,
      "outputs": [
        {
          "output_type": "display_data",
          "data": {
            "image/png": "[encoded data removed]",
            "text/plain": [
              "<Figure size 720x504 with 1 Axes>"
            ]
          },
          "metadata": {
            "tags": []
          }
        }
      ]
    },
    {
      "metadata": {
        "id": "R2q5i7e1-VHC",
        "colab_type": "code",
        "colab": {
          "base_uri": "https://localhost:8080/",
          "height": 87
        },
        "outputId": "971d8851-f2a3-4664-8ce4-1f503f77f14b"
      },
      "cell_type": "code",
      "source": [
        "[tn, fp], [fn, tp] = cm\n",
        "\n",
        "sensitivity = tp / (tp + fn)\n",
        "specificity = tn / (tn + fp)\n",
        "precision = tp / (tp + fp)\n",
        "f1score = 2*precision*sensitivity / (sensitivity + precision)\n",
        "\n",
        "print(\"sensitivity: \", sensitivity)\n",
        "print(\"specificity: \", specificity)\n",
        "print(\"precision: \", precision)\n",
        "print(\"f1score: \", f1score)"
      ],
      "execution_count": 24,
      "outputs": [
        {
          "output_type": "stream",
          "text": [
            "sensitivity:  0.7099101125539627\n",
            "specificity:  0.9915934468810904\n",
            "precision:  0.8901774110612336\n",
            "f1score:  0.7898892238740456\n"
          ],
          "name": "stdout"
        }
      ]
    }
  ]
}