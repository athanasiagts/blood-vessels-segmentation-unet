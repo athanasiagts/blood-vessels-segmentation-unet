{
  "nbformat": 4,
  "nbformat_minor": 0,
  "metadata": {
    "colab": {
      "name": "unet.ipynb",
      "version": "0.3.2",
      "provenance": []
    },
    "kernelspec": {
      "name": "python3",
      "display_name": "Python 3"
    },
    "accelerator": "GPU"
  },
  "cells": [
    {
      "metadata": {
        "id": "jFBijmDYNtFY",
        "colab_type": "code",
        "colab": {
          "base_uri": "https://localhost:8080/",
          "height": 34
        },
        "outputId": "aa8420d3-9859-4528-c60c-fccc1727740b"
      },
      "cell_type": "code",
      "source": [
        "import argparse\n",
        "from glob import glob\n",
        "\n",
        "import numpy as np\n",
        "from PIL import Image\n",
        "from keras import backend as K\n",
        "from keras import losses\n",
        "from keras.callbacks import ModelCheckpoint, EarlyStopping, ReduceLROnPlateau\n",
        "from keras.layers import Input, MaxPooling2D\n",
        "from keras.layers import concatenate, Conv2D, Conv2DTranspose, Dropout, ReLU\n",
        "from keras.models import Model\n",
        "from keras.optimizers import Adam\n",
        "from numpy import random\n",
        "import tensorflow as tf\n",
        "from random import randint\n",
        "import keras\n",
        "from keras_preprocessing import image\n",
        "import cv2\n",
        "import matplotlib.pyplot as plt\n",
        "from sklearn.model_selection import KFold"
      ],
      "execution_count": 2,
      "outputs": [
        {
          "output_type": "stream",
          "text": [
            "Using TensorFlow backend.\n"
          ],
          "name": "stderr"
        }
      ]
    },
    {
      "metadata": {
        "id": "V-0KWj2NObfp",
        "colab_type": "code",
        "colab": {}
      },
      "cell_type": "code",
      "source": [
        "batch_size = 16\n",
        "input_shape = (64, 64)\n",
        "\n",
        "def get_unet(do=0, activation=ReLU):\n",
        "    inputs = Input((None, None, 3))\n",
        "    conv1 = Dropout(do)(activation()(Conv2D(32, (3, 3), padding='same')(inputs)))\n",
        "    conv1 = Dropout(do)(activation()(Conv2D(32, (3, 3), padding='same')(conv1)))\n",
        "    pool1 = MaxPooling2D(pool_size=(2, 2))(conv1)\n",
        "\n",
        "    conv2 = Dropout(do)(activation()(Conv2D(64, (3, 3), padding='same')(pool1)))\n",
        "    conv2 = Dropout(do)(activation()(Conv2D(64, (3, 3), padding='same')(conv2)))\n",
        "    pool2 = MaxPooling2D(pool_size=(2, 2))(conv2)\n",
        "\n",
        "    conv3 = Dropout(do)(activation()(Conv2D(128, (3, 3), padding='same')(pool2)))\n",
        "    conv3 = Dropout(do)(activation()(Conv2D(128, (3, 3), padding='same')(conv3)))\n",
        "    pool3 = MaxPooling2D(pool_size=(2, 2))(conv3)\n",
        "\n",
        "    conv4 = Dropout(do)(activation()(Conv2D(256, (3, 3), padding='same')(pool3)))\n",
        "    conv4 = Dropout(do)(activation()(Conv2D(256, (3, 3), padding='same')(conv4)))\n",
        "    pool4 = MaxPooling2D(pool_size=(2, 2))(conv4)\n",
        "\n",
        "    conv5 = Dropout(do)(activation()(Conv2D(512, (3, 3), padding='same')(pool4)))\n",
        "    conv5 = Dropout(do)(activation()(Conv2D(512, (3, 3), padding='same')(conv5)))\n",
        "\n",
        "    up6 = concatenate([Conv2DTranspose(256, (2, 2), strides=(2, 2), padding='same')(conv5), conv4], axis=3)\n",
        "    conv6 = Dropout(do)(activation()(Conv2D(256, (3, 3), padding='same')(up6)))\n",
        "    conv6 = Dropout(do)(activation()(Conv2D(256, (3, 3), padding='same')(conv6)))\n",
        "\n",
        "    up7 = concatenate([Conv2DTranspose(128, (2, 2), strides=(2, 2), padding='same')(conv6), conv3], axis=3)\n",
        "    conv7 = Dropout(do)(activation()(Conv2D(128, (3, 3), padding='same')(up7)))\n",
        "    conv7 = Dropout(do)(activation()(Conv2D(128, (3, 3), padding='same')(conv7)))\n",
        "\n",
        "    up8 = concatenate([Conv2DTranspose(64, (2, 2), strides=(2, 2), padding='same')(conv7), conv2], axis=3)\n",
        "    conv8 = Dropout(do)(activation()(Conv2D(64, (3, 3), padding='same')(up8)))\n",
        "    conv8 = Dropout(do)(activation()(Conv2D(64, (3, 3), padding='same')(conv8)))\n",
        "\n",
        "    up9 = concatenate([Conv2DTranspose(32, (2, 2), strides=(2, 2), padding='same')(conv8), conv1], axis=3)\n",
        "    conv9 = Dropout(do)(activation()(Conv2D(32, (3, 3), padding='same')(up9)))\n",
        "    conv9 = Dropout(do)(activation()(Conv2D(32, (3, 3), padding='same')(conv9)))\n",
        "\n",
        "    conv10 = Conv2D(1, (1, 1), activation='sigmoid')(conv9)\n",
        "\n",
        "    model = Model(inputs=[inputs], outputs=[conv10])\n",
        "\n",
        "    model.compile(optimizer=Adam(lr=1e-3), loss=losses.binary_crossentropy, metrics=['accuracy'])\n",
        "\n",
        "\n",
        "    return model\n",
        "\n",
        "\n",
        "def read_input(path):\n",
        "    x = np.array(Image.open(path))/255.\n",
        "    return x\n",
        "\n",
        "\n",
        "def read_gt(path):\n",
        "    x = np.array(Image.open(path))/255.\n",
        "    return x[..., np.newaxis]\n",
        "\n",
        "\n",
        "def random_crop(img, mask, crop_size=input_shape[0]):\n",
        "    imgheight= img.shape[0]\n",
        "    imgwidth = img.shape[1]\n",
        "    i = randint(0, imgheight-crop_size)\n",
        "    j = randint(0, imgwidth-crop_size)\n",
        "\n",
        "    return img[i:(i+crop_size), j:(j+crop_size), :], mask[i:(i+crop_size), j:(j+crop_size)]\n",
        "\n",
        "\n",
        "def gen(data):\n",
        "    while True:\n",
        "        repeat = 4\n",
        "        index= random.choice(list(range(len(data))), batch_size//repeat)\n",
        "        index = list(map(int, index))\n",
        "        list_images_base = [read_input(data[i][0]) for i in index]\n",
        "        list_gt_base = [read_gt(data[i][1]) for i in index]\n",
        "\n",
        "        list_images = []\n",
        "        list_gt = []\n",
        "\n",
        "        for image, gt in zip(list_images_base, list_gt_base):\n",
        "\n",
        "            for _ in range(repeat):\n",
        "                image_, gt_ = random_crop(image.copy(), gt.copy())\n",
        "                list_images.append(image_)\n",
        "                list_gt.append(gt_)\n",
        "\n",
        "        yield np.array(list_images), np.array(list_gt)\n"
      ],
      "execution_count": 0,
      "outputs": []
    },
    {
      "metadata": {
        "id": "q6fbzqH2Gpj_",
        "colab_type": "code",
        "colab": {
          "base_uri": "https://localhost:8080/",
          "height": 34
        },
        "outputId": "996469d7-e34d-4255-896a-cae98cf0768d"
      },
      "cell_type": "code",
      "source": [
        "data = list(zip(sorted(glob('DRIVE/training/images/*.tif')),\n",
        "                      sorted(glob('DRIVE/training/1st_manual/*.gif'))))\n",
        "\n",
        "\n",
        "repeat = 4\n",
        "index= random.choice(list(range(len(data))), batch_size//repeat)\n",
        "index = list(map(int, index))\n",
        "list_images_base = [read_input(data[i][0]) for i in index]\n",
        "list_gt_base = [read_gt(data[i][1]) for i in index]\n",
        "\n",
        "list_images = []\n",
        "list_gt = []\n",
        "\n",
        "for image, gt in zip(list_images_base, list_gt_base):\n",
        "\n",
        "    for _ in range(repeat):\n",
        "        image_, gt_ = random_crop(image.copy(), gt.copy())\n",
        "        list_images.append(image_)\n",
        "        list_gt.append(gt_)\n",
        "\n",
        "list_images = np.array(list_images)\n",
        "list_gt = np.array(list_gt)\n",
        "len(data)"
      ],
      "execution_count": 8,
      "outputs": [
        {
          "output_type": "execute_result",
          "data": {
            "text/plain": [
              "20"
            ]
          },
          "metadata": {
            "tags": []
          },
          "execution_count": 8
        }
      ]
    },
    {
      "metadata": {
        "id": "3ye98j8xOecC",
        "colab_type": "code",
        "outputId": "6dc532c0-914e-4b07-c0a6-79d8751b6ba7",
        "colab": {
          "base_uri": "https://localhost:8080/",
          "height": 899
        }
      },
      "cell_type": "code",
      "source": [
        "activation = globals()[\"ReLU\"]\n",
        "dropout = 0.1\n",
        "\n",
        "train_data = np.array(list(zip(sorted(glob('DRIVE/training/images/*.tif')),\n",
        "                      sorted(glob('DRIVE/training/1st_manual/*.gif')))))\n",
        "\n",
        "seed = 7\n",
        "np.random.seed(seed)\n",
        "kf = KFold(n_splits=10, shuffle=True, random_state=seed)\n",
        "cvscores = []\n",
        "\n",
        "for train, test in kf.split(train_data):\n",
        "  model = get_unet(do=dropout, activation=activation)\n",
        "  history = model.fit_generator(gen(train_data[train]), epochs=1, \n",
        "                              steps_per_epoch= 100*len(train_data)//batch_size)\n",
        "  print(\"Model evaluation..\")\n",
        "  eval = model.evaluate_generator(gen(train_data[test]),steps=100*2//batch_size)\n",
        "  print(\"Acc: \", eval[1], \"testing: \", test)\n",
        "  cvscores.append(eval[1])"
      ],
      "execution_count": 7,
      "outputs": [
        {
          "output_type": "stream",
          "text": [
            "WARNING:tensorflow:From /usr/local/lib/python3.6/dist-packages/tensorflow/python/framework/op_def_library.py:263: colocate_with (from tensorflow.python.framework.ops) is deprecated and will be removed in a future version.\n",
            "Instructions for updating:\n",
            "Colocations handled automatically by placer.\n",
            "WARNING:tensorflow:From /usr/local/lib/python3.6/dist-packages/keras/backend/tensorflow_backend.py:3445: calling dropout (from tensorflow.python.ops.nn_ops) with keep_prob is deprecated and will be removed in a future version.\n",
            "Instructions for updating:\n",
            "Please use `rate` instead of `keep_prob`. Rate should be set to `rate = 1 - keep_prob`.\n",
            "WARNING:tensorflow:From /usr/local/lib/python3.6/dist-packages/tensorflow/python/ops/math_ops.py:3066: to_int32 (from tensorflow.python.ops.math_ops) is deprecated and will be removed in a future version.\n",
            "Instructions for updating:\n",
            "Use tf.cast instead.\n",
            "Epoch 1/1\n",
            "125/125 [==============================] - 23s 186ms/step - loss: 0.3544 - acc: 0.8875\n",
            "Model evaluation..\n",
            "Acc:  0.8936996459960938 testing:  [ 1 17]\n",
            "Epoch 1/1\n",
            "125/125 [==============================] - 19s 155ms/step - loss: 0.3746 - acc: 0.8895\n",
            "Model evaluation..\n",
            "Acc:  0.9097429911295573 testing:  [2 5]\n",
            "Epoch 1/1\n",
            "125/125 [==============================] - 21s 166ms/step - loss: 0.3429 - acc: 0.8912\n",
            "Model evaluation..\n",
            "Acc:  0.8987375895182291 testing:  [ 0 11]\n",
            "Epoch 1/1\n",
            "125/125 [==============================] - 20s 163ms/step - loss: 0.3485 - acc: 0.8925\n",
            "Model evaluation..\n",
            "Acc:  0.8933359781901041 testing:  [ 6 18]\n",
            "Epoch 1/1\n",
            "125/125 [==============================] - 21s 166ms/step - loss: 0.3528 - acc: 0.8876\n",
            "Model evaluation..\n",
            "Acc:  0.8955510457356771 testing:  [13 19]\n",
            "Epoch 1/1\n",
            "125/125 [==============================] - 22s 179ms/step - loss: 0.3587 - acc: 0.8871\n",
            "Model evaluation..\n",
            "Acc:  0.9071019490559896 testing:  [10 14]\n",
            "Epoch 1/1\n",
            "125/125 [==============================] - 22s 176ms/step - loss: 0.3577 - acc: 0.8813\n",
            "Model evaluation..\n",
            "Acc:  0.8956807454427084 testing:  [ 8 16]\n",
            "Epoch 1/1\n",
            "125/125 [==============================] - 23s 183ms/step - loss: 0.3551 - acc: 0.8879\n",
            "Model evaluation..\n",
            "Acc:  0.8980801900227865 testing:  [ 9 12]\n",
            "Epoch 1/1\n",
            "125/125 [==============================] - 25s 197ms/step - loss: 0.3397 - acc: 0.8962\n",
            "Model evaluation..\n",
            "Acc:  0.8765818277994791 testing:  [3 7]\n",
            "Epoch 1/1\n",
            "125/125 [==============================] - 24s 194ms/step - loss: 0.3451 - acc: 0.8943\n",
            "Model evaluation..\n",
            "Acc:  0.8729705810546875 testing:  [ 4 15]\n"
          ],
          "name": "stdout"
        }
      ]
    },
    {
      "metadata": {
        "id": "_-hqDAWkfkRJ",
        "colab_type": "code",
        "colab": {
          "base_uri": "https://localhost:8080/",
          "height": 34
        },
        "outputId": "b581b9d8-bb58-4384-843e-9dbd02023463"
      },
      "cell_type": "code",
      "source": [
        "print(\"average: \", sum(cvscores)/10)"
      ],
      "execution_count": 9,
      "outputs": [
        {
          "output_type": "stream",
          "text": [
            "average:  0.894148254394531\n"
          ],
          "name": "stdout"
        }
      ]
    },
    {
      "metadata": {
        "id": "fhOqItSRP5cK",
        "colab_type": "code",
        "colab": {}
      },
      "cell_type": "code",
      "source": [
        "!unzip DRIVE.zip"
      ],
      "execution_count": 0,
      "outputs": []
    }
  ]
}