{
  "nbformat": 4,
  "nbformat_minor": 0,
  "metadata": {
    "colab": {
      "name": "unet.ipynb",
      "version": "0.3.2",
      "provenance": []
    },
    "kernelspec": {
      "name": "python3",
      "display_name": "Python 3"
    },
    "accelerator": "GPU"
  },
  "cells": [
    {
      "metadata": {
        "id": "jFBijmDYNtFY",
        "colab_type": "code",
        "colab": {
          "base_uri": "https://localhost:8080/",
          "height": 34
        },
        "outputId": "861c064f-1e05-423f-c00b-0b7792a01560"
      },
      "cell_type": "code",
      "source": [
        "import argparse\n",
        "from glob import glob\n",
        "\n",
        "import numpy as np\n",
        "from PIL import Image\n",
        "from keras import backend as K\n",
        "from keras import losses\n",
        "from keras.callbacks import ModelCheckpoint, EarlyStopping, ReduceLROnPlateau\n",
        "from keras.layers import Input, MaxPooling2D\n",
        "from keras.layers import concatenate, Conv2D, Conv2DTranspose, Dropout, ReLU\n",
        "from keras.models import Model\n",
        "from keras.optimizers import Adam\n",
        "from numpy import random\n",
        "import tensorflow as tf\n",
        "from random import randint\n",
        "import keras\n",
        "from keras_preprocessing import image\n",
        "import cv2\n",
        "import matplotlib.pyplot as plt"
      ],
      "execution_count": 3,
      "outputs": [
        {
          "output_type": "stream",
          "text": [
            "Using TensorFlow backend.\n"
          ],
          "name": "stderr"
        }
      ]
    },
    {
      "metadata": {
        "id": "V-0KWj2NObfp",
        "colab_type": "code",
        "colab": {}
      },
      "cell_type": "code",
      "source": [
        "batch_size = 16\n",
        "input_shape = (64, 64)\n",
        "\n",
        "def get_unet(do=0, activation=ReLU):\n",
        "    inputs = Input((None, None, 3))\n",
        "    conv1 = Dropout(do)(activation()(Conv2D(32, (3, 3), padding='same')(inputs)))\n",
        "    conv1 = Dropout(do)(activation()(Conv2D(32, (3, 3), padding='same')(conv1)))\n",
        "    pool1 = MaxPooling2D(pool_size=(2, 2))(conv1)\n",
        "\n",
        "    conv2 = Dropout(do)(activation()(Conv2D(64, (3, 3), padding='same')(pool1)))\n",
        "    conv2 = Dropout(do)(activation()(Conv2D(64, (3, 3), padding='same')(conv2)))\n",
        "    pool2 = MaxPooling2D(pool_size=(2, 2))(conv2)\n",
        "\n",
        "    conv3 = Dropout(do)(activation()(Conv2D(128, (3, 3), padding='same')(pool2)))\n",
        "    conv3 = Dropout(do)(activation()(Conv2D(128, (3, 3), padding='same')(conv3)))\n",
        "    pool3 = MaxPooling2D(pool_size=(2, 2))(conv3)\n",
        "\n",
        "    conv4 = Dropout(do)(activation()(Conv2D(256, (3, 3), padding='same')(pool3)))\n",
        "    conv4 = Dropout(do)(activation()(Conv2D(256, (3, 3), padding='same')(conv4)))\n",
        "    pool4 = MaxPooling2D(pool_size=(2, 2))(conv4)\n",
        "\n",
        "    conv5 = Dropout(do)(activation()(Conv2D(512, (3, 3), padding='same')(pool4)))\n",
        "    conv5 = Dropout(do)(activation()(Conv2D(512, (3, 3), padding='same')(conv5)))\n",
        "\n",
        "    up6 = concatenate([Conv2DTranspose(256, (2, 2), strides=(2, 2), padding='same')(conv5), conv4], axis=3)\n",
        "    conv6 = Dropout(do)(activation()(Conv2D(256, (3, 3), padding='same')(up6)))\n",
        "    conv6 = Dropout(do)(activation()(Conv2D(256, (3, 3), padding='same')(conv6)))\n",
        "\n",
        "    up7 = concatenate([Conv2DTranspose(128, (2, 2), strides=(2, 2), padding='same')(conv6), conv3], axis=3)\n",
        "    conv7 = Dropout(do)(activation()(Conv2D(128, (3, 3), padding='same')(up7)))\n",
        "    conv7 = Dropout(do)(activation()(Conv2D(128, (3, 3), padding='same')(conv7)))\n",
        "\n",
        "    up8 = concatenate([Conv2DTranspose(64, (2, 2), strides=(2, 2), padding='same')(conv7), conv2], axis=3)\n",
        "    conv8 = Dropout(do)(activation()(Conv2D(64, (3, 3), padding='same')(up8)))\n",
        "    conv8 = Dropout(do)(activation()(Conv2D(64, (3, 3), padding='same')(conv8)))\n",
        "\n",
        "    up9 = concatenate([Conv2DTranspose(32, (2, 2), strides=(2, 2), padding='same')(conv8), conv1], axis=3)\n",
        "    conv9 = Dropout(do)(activation()(Conv2D(32, (3, 3), padding='same')(up9)))\n",
        "    conv9 = Dropout(do)(activation()(Conv2D(32, (3, 3), padding='same')(conv9)))\n",
        "\n",
        "    conv10 = Conv2D(1, (1, 1), activation='sigmoid')(conv9)\n",
        "\n",
        "    model = Model(inputs=[inputs], outputs=[conv10])\n",
        "\n",
        "    model.compile(optimizer=Adam(lr=1e-3), loss=losses.binary_crossentropy, metrics=['accuracy'])\n",
        "\n",
        "\n",
        "    return model\n",
        "\n",
        "\n",
        "def read_input(path):\n",
        "    x = np.array(Image.open(path))/255.\n",
        "    return x\n",
        "\n",
        "\n",
        "def read_gt(path):\n",
        "    x = np.array(Image.open(path))/255.\n",
        "    return x[..., np.newaxis]\n",
        "\n",
        "\n",
        "def random_crop(img, mask, crop_size=input_shape[0]):\n",
        "    imgheight= img.shape[0]\n",
        "    imgwidth = img.shape[1]\n",
        "    i = randint(0, imgheight-crop_size)\n",
        "    j = randint(0, imgwidth-crop_size)\n",
        "\n",
        "    return img[i:(i+crop_size), j:(j+crop_size), :], mask[i:(i+crop_size), j:(j+crop_size)]\n",
        "\n",
        "\n",
        "def gen(data):\n",
        "    while True:\n",
        "        repeat = 4\n",
        "        index= random.choice(list(range(len(data))), batch_size//repeat)\n",
        "        index = list(map(int, index))\n",
        "        list_images_base = [read_input(data[i][0]) for i in index]\n",
        "        list_gt_base = [read_gt(data[i][1]) for i in index]\n",
        "\n",
        "        list_images = []\n",
        "        list_gt = []\n",
        "\n",
        "        for image, gt in zip(list_images_base, list_gt_base):\n",
        "\n",
        "            for _ in range(repeat):\n",
        "                image_, gt_ = random_crop(image.copy(), gt.copy())\n",
        "                list_images.append(image_)\n",
        "                list_gt.append(gt_)\n",
        "\n",
        "        yield np.array(list_images), np.array(list_gt)\n"
      ],
      "execution_count": 0,
      "outputs": []
    },
    {
      "metadata": {
        "id": "q6fbzqH2Gpj_",
        "colab_type": "code",
        "colab": {
          "base_uri": "https://localhost:8080/",
          "height": 34
        },
        "outputId": "996469d7-e34d-4255-896a-cae98cf0768d"
      },
      "cell_type": "code",
      "source": [
        "data = list(zip(sorted(glob('DRIVE/training/images/*.tif')),\n",
        "                      sorted(glob('DRIVE/training/1st_manual/*.gif'))))\n",
        "\n",
        "\n",
        "repeat = 4\n",
        "index= random.choice(list(range(len(data))), batch_size//repeat)\n",
        "index = list(map(int, index))\n",
        "list_images_base = [read_input(data[i][0]) for i in index]\n",
        "list_gt_base = [read_gt(data[i][1]) for i in index]\n",
        "\n",
        "list_images = []\n",
        "list_gt = []\n",
        "\n",
        "for image, gt in zip(list_images_base, list_gt_base):\n",
        "\n",
        "    for _ in range(repeat):\n",
        "        image_, gt_ = random_crop(image.copy(), gt.copy())\n",
        "        list_images.append(image_)\n",
        "        list_gt.append(gt_)\n",
        "\n",
        "list_images = np.array(list_images)\n",
        "list_gt = np.array(list_gt)\n",
        "len(data)"
      ],
      "execution_count": 8,
      "outputs": [
        {
          "output_type": "execute_result",
          "data": {
            "text/plain": [
              "20"
            ]
          },
          "metadata": {
            "tags": []
          },
          "execution_count": 8
        }
      ]
    },
    {
      "metadata": {
        "id": "3ye98j8xOecC",
        "colab_type": "code",
        "outputId": "2e34013d-f10b-45cd-af1c-513e29338afe",
        "colab": {
          "base_uri": "https://localhost:8080/",
          "height": 193
        }
      },
      "cell_type": "code",
      "source": [
        "activation = globals()[\"ReLU\"]\n",
        "dropout = 0.1\n",
        "\n",
        "train_data = list(zip(sorted(glob('DRIVE/training/images/*.tif')),\n",
        "                      sorted(glob('DRIVE/training/1st_manual/*.gif'))))\n",
        "\n",
        "model = get_unet(do=dropout, activation=activation)\n",
        "\n",
        "file_path = \"weights.best.hdf5\"\n",
        "\n",
        "#try:\n",
        "#    model.load_weights(file_path, by_name=True)\n",
        "#except:\n",
        "#    pass\n",
        "\n",
        "\n",
        "#history = model.fit_generator(gen(train_data, au=True), epochs=100, verbose=2,\n",
        "#                     steps_per_epoch= 100*len(train_data)//batch_size,\n",
        "#                              use_multiprocessing=True, workers=16)\n",
        "\n",
        "history = model.fit_generator(gen(train_data[:18]), validation_data=gen(train_data[18:20]), \n",
        "                              validation_steps=100*2//batch_size, epochs=5, \n",
        "                              steps_per_epoch= 100*len(train_data)//batch_size)\n",
        "\n",
        "#model.save_weights(file_path)"
      ],
      "execution_count": 15,
      "outputs": [
        {
          "output_type": "stream",
          "text": [
            "Epoch 1/5\n",
            "125/125 [==============================] - 29s 230ms/step - loss: 0.3500 - acc: 0.8940 - val_loss: 0.3014 - val_acc: 0.9073\n",
            "Epoch 2/5\n",
            "125/125 [==============================] - 22s 177ms/step - loss: 0.3201 - acc: 0.8905 - val_loss: 0.2982 - val_acc: 0.8989\n",
            "Epoch 3/5\n",
            "125/125 [==============================] - 23s 187ms/step - loss: 0.3155 - acc: 0.8889 - val_loss: 0.2765 - val_acc: 0.8983\n",
            "Epoch 4/5\n",
            "125/125 [==============================] - 23s 182ms/step - loss: 0.2503 - acc: 0.9121 - val_loss: 0.1516 - val_acc: 0.9459\n",
            "Epoch 5/5\n",
            "125/125 [==============================] - 22s 179ms/step - loss: 0.1807 - acc: 0.9357 - val_loss: 0.1352 - val_acc: 0.9516\n"
          ],
          "name": "stdout"
        }
      ]
    },
    {
      "metadata": {
        "id": "fhOqItSRP5cK",
        "colab_type": "code",
        "colab": {}
      },
      "cell_type": "code",
      "source": [
        "!unzip DRIVE.zip"
      ],
      "execution_count": 0,
      "outputs": []
    }
  ]
}