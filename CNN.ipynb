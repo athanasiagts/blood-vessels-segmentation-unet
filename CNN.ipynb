{
 "cells": [
  {
   "cell_type": "code",
   "execution_count": 16,
   "metadata": {},
   "outputs": [],
   "source": [
    "import cv2\n",
    "import matplotlib.pyplot as plt\n",
    "import numpy as np\n",
    "from skimage import filters, feature\n",
    "from skimage.feature import hessian_matrix, hessian_matrix_eigvals\n",
    "from os import listdir\n",
    "from keras.models import Sequential\n",
    "from keras.layers import Dense, Conv2D, Flatten\n",
    "import random\n",
    "\n",
    "def plot_images(*images):\n",
    "    images = list(images)\n",
    "    n = len(images)\n",
    "    fig, ax = plt.subplots(ncols=n, sharey=True)\n",
    "    fig.set_size_inches(12,4)\n",
    "    for i, img in enumerate(images):\n",
    "        ax[i].imshow(img, cmap='gray')\n",
    "        ax[i].axis('off')\n",
    "    plt.subplots_adjust(left=0.03, bottom=0.03, right=0.97, top=0.97)\n",
    "    plt.show()\n",
    "\n",
    "def draw_prediction(prediction):\n",
    "    prediction[prediction < 0.5] = 0\n",
    "    prediction[prediction >= 0.5] = 1\n",
    "    reshaped = prediction.reshape(553,534)\n",
    "    original_sized = np.zeros((584, 565))\n",
    "    original_sized[15:568, 15:549] = reshaped\n",
    "    plt.imshow(original_sized, cmap='gray')\n",
    "\n",
    "def extract_patches(img, patch_size):\n",
    "    assert(patch_size % 2 == 1)\n",
    "    patches = []\n",
    "    for i in range(0, img.shape[0] - patch_size):\n",
    "        for j in range(0, img.shape[1] - patch_size):\n",
    "            patches.append(img[i:i + patch_size,j:j+patch_size])\n",
    "    return patches\n",
    "\n",
    "def prepare_img(img):\n",
    "    rgb = cv2.cvtColor(img, cv2.COLOR_BGR2RGB)\n",
    "    gray = cv2.cvtColor(rgb, cv2.COLOR_RGB2GRAY)\n",
    "    clahe = cv2.createCLAHE(clipLimit=2.0, tileGridSize=(8,8))\n",
    "    hist_eq = clahe.apply(gray)\n",
    "    gamma = 1.2\n",
    "    invGamma = 1.0 / gamma\n",
    "    table = np.array([((i / 255.0) ** invGamma) * 255 for i in np.arange(0, 256)]).astype(\"uint8\")\n",
    "    gamma_corrected = cv2.LUT(hist_eq, table)\n",
    "    return gamma_corrected\n",
    "\n",
    "def prepare_labels(labeled_img, path_size):\n",
    "    labeled_extracted = extract_patches(labeled_img, path_size)\n",
    "    y_train = []\n",
    "    for i in labeled_extracted:\n",
    "        y_train.append((int)(i[15,15] / 255))\n",
    "    return y_train\n",
    "\n",
    "def extract_patches_and_labels(imgs_dir_path, labeled_imgs_dir_path):\n",
    "    imgs_paths = listdir(imgs_dir_path)\n",
    "    labeled_imgs_paths = listdir(labeled_imgs_dir_path)\n",
    "\n",
    "    #modification due to memory constraints:\n",
    "    imgs_paths = [imgs_paths[0]]\n",
    "    labeled_imgs_paths = [labeled_imgs_paths[0]]\n",
    "    \n",
    "    all_patches = []\n",
    "    all_labels = []\n",
    "    for img_path, labeled_img_path in zip(imgs_paths, labeled_imgs_paths):\n",
    "        img = cv2.imread(imgs_dir_path + img_path)\n",
    "        labeled = plt.imread(labeled_imgs_dir_path + labeled_img_path)\n",
    "\n",
    "        gamma_corrected = prepare_img(img)\n",
    "        patches = extract_patches(gamma_corrected, 31)\n",
    "        labels = prepare_labels(labeled, 31)\n",
    "\n",
    "        all_patches = all_patches + patches\n",
    "        all_labels = all_labels + labels\n",
    "    return all_patches, all_labels"
   ]
  },
  {
   "cell_type": "code",
   "execution_count": 3,
   "metadata": {},
   "outputs": [
    {
     "name": "stdout",
     "output_type": "stream",
     "text": [
      "24658\n"
     ]
    }
   ],
   "source": [
    "imgs_dir_path = 'data/DRIVE/training/images/'\n",
    "labeled_imgs_dir_path = 'data/DRIVE/training/1st_manual/'\n",
    "\n",
    "all_patches, all_labels = extract_patches_and_labels(imgs_dir_path, labeled_imgs_dir_path)"
   ]
  },
  {
   "cell_type": "code",
   "execution_count": 12,
   "metadata": {},
   "outputs": [],
   "source": [
    "#undersampling\n",
    "\n",
    "minority_examples_number = sum(all_labels)\n",
    "\n",
    "labelToPatches = {\n",
    "    0:[],\n",
    "    1:[]\n",
    "}\n",
    "\n",
    "for patch, label in zip(all_patches, all_labels):\n",
    "    labelToPatches[label].append(patch)"
   ]
  },
  {
   "cell_type": "code",
   "execution_count": 19,
   "metadata": {},
   "outputs": [
    {
     "data": {
      "text/plain": [
       "True"
      ]
     },
     "execution_count": 19,
     "metadata": {},
     "output_type": "execute_result"
    }
   ],
   "source": [
    "minority_examples = labelToPatches[1]\n",
    "majority_examples = labelToPatches[0]\n",
    "majority_undersampled = random.sample(majority_examples, len(minority_examples))\n",
    "\n",
    "len(minority_examples) == len(majority_undersampled)"
   ]
  },
  {
   "cell_type": "code",
   "execution_count": 25,
   "metadata": {},
   "outputs": [],
   "source": [
    "def shuffle(minority_examples, majority_examples):\n",
    "    all_examples = minority_examples + majority_examples\n",
    "    labels = [1] * len(minority_examples) + [0] * len(majority_examples)\n",
    "    \n",
    "    combined = list(zip(all_examples, labels))\n",
    "    random.shuffle(combined)\n",
    "\n",
    "    all_examples[:], labels[:] = zip(*combined)\n",
    "    return all_examples, labels\n",
    "\n",
    "shuffled, labels = shuffle(minority_examples, majority_undersampled)"
   ]
  },
  {
   "cell_type": "code",
   "execution_count": 31,
   "metadata": {},
   "outputs": [
    {
     "data": {
      "text/plain": [
       "1"
      ]
     },
     "execution_count": 31,
     "metadata": {},
     "output_type": "execute_result"
    },
    {
     "data": {
      "image/png": "[encoded data removed]",
      "text/plain": [
       "<Figure size 432x288 with 1 Axes>"
      ]
     },
     "metadata": {
      "needs_background": "light"
     },
     "output_type": "display_data"
    }
   ],
   "source": [
    "plt.imshow(shuffled[2], cmap='gray')\n",
    "labels[2]"
   ]
  },
  {
   "cell_type": "code",
   "execution_count": 39,
   "metadata": {},
   "outputs": [
    {
     "data": {
      "text/plain": [
       "49316"
      ]
     },
     "execution_count": 39,
     "metadata": {},
     "output_type": "execute_result"
    }
   ],
   "source": [
    "X_train = np.asarray(shuffled) / 255\n",
    "y_train = np.asarray(labels)"
   ]
  },
  {
   "cell_type": "code",
   "execution_count": 35,
   "metadata": {},
   "outputs": [],
   "source": [
    "#create model\n",
    "model = Sequential()\n",
    "#add model layers\n",
    "model.add(Conv2D(64, kernel_size=3, activation='relu', input_shape=(31,31,1)))\n",
    "model.add(Conv2D(32, kernel_size=3, activation='relu'))\n",
    "model.add(Flatten())\n",
    "model.add(Dense(1, activation='sigmoid'))"
   ]
  },
  {
   "cell_type": "code",
   "execution_count": 36,
   "metadata": {},
   "outputs": [],
   "source": [
    "model.compile(optimizer='adam', loss='binary_crossentropy', metrics=['accuracy'])"
   ]
  },
  {
   "cell_type": "code",
   "execution_count": 40,
   "metadata": {},
   "outputs": [],
   "source": [
    "X_train = X_train.reshape(X_train.shape[0],31,31,1)"
   ]
  },
  {
   "cell_type": "code",
   "execution_count": 49,
   "metadata": {},
   "outputs": [
    {
     "name": "stdout",
     "output_type": "stream",
     "text": [
      "Train on 49316 samples, validate on 49316 samples\n",
      "Epoch 1/5\n",
      "49316/49316 [==============================] - 74s 1ms/step - loss: 0.2557 - acc: 0.8949 - val_loss: 0.2294 - val_acc: 0.9112\n",
      "Epoch 2/5\n",
      "49316/49316 [==============================] - 102s 2ms/step - loss: 0.2126 - acc: 0.9159 - val_loss: 0.1921 - val_acc: 0.9274\n",
      "Epoch 3/5\n",
      "49316/49316 [==============================] - 103s 2ms/step - loss: 0.1960 - acc: 0.9237 - val_loss: 0.1865 - val_acc: 0.9276\n",
      "Epoch 4/5\n",
      "49316/49316 [==============================] - 102s 2ms/step - loss: 0.1872 - acc: 0.9275 - val_loss: 0.1817 - val_acc: 0.9287\n",
      "Epoch 5/5\n",
      "49316/49316 [==============================] - 102s 2ms/step - loss: 0.1790 - acc: 0.9302 - val_loss: 0.1987 - val_acc: 0.9214\n"
     ]
    },
    {
     "data": {
      "text/plain": [
       "<keras.callbacks.History at 0x1fd8e10e828>"
      ]
     },
     "execution_count": 49,
     "metadata": {},
     "output_type": "execute_result"
    }
   ],
   "source": [
    "model.fit(X_train, y_train, validation_data=(X_train, y_train), epochs=5)"
   ]
  },
  {
   "cell_type": "code",
   "execution_count": 42,
   "metadata": {},
   "outputs": [],
   "source": [
    "model.save_weights('simple.h5')"
   ]
  },
  {
   "cell_type": "code",
   "execution_count": 44,
   "metadata": {},
   "outputs": [],
   "source": [
    "def prepare_test_patches(img_path):\n",
    "    img = cv2.imread(img_path)\n",
    "    prepared = prepare_img(img)\n",
    "    patches = extract_patches(prepared, 31)\n",
    "    normalized = np.asarray(patches)/255\n",
    "    return normalized.reshape(normalized.shape[0],31,31,1)"
   ]
  },
  {
   "cell_type": "code",
   "execution_count": 45,
   "metadata": {},
   "outputs": [],
   "source": [
    "X_test = prepare_test_patches('data/DRIVE/training/images/21_training.tif')"
   ]
  },
  {
   "cell_type": "code",
   "execution_count": 50,
   "metadata": {},
   "outputs": [],
   "source": [
    "prediction = model.predict(X_test)"
   ]
  },
  {
   "cell_type": "code",
   "execution_count": 51,
   "metadata": {},
   "outputs": [
    {
     "data": {
      "image/png": "[encoded data removed]",
      "text/plain": [
       "<Figure size 432x288 with 1 Axes>"
      ]
     },
     "metadata": {
      "needs_background": "light"
     },
     "output_type": "display_data"
    }
   ],
   "source": [
    "draw_prediction(prediction)"
   ]
  }
 ],
 "metadata": {
  "kernelspec": {
   "display_name": "Python 3",
   "language": "python",
   "name": "python3"
  },
  "language_info": {
   "codemirror_mode": {
    "name": "ipython",
    "version": 3
   },
   "file_extension": ".py",
   "mimetype": "text/x-python",
   "name": "python",
   "nbconvert_exporter": "python",
   "pygments_lexer": "ipython3",
   "version": "3.6.6"
  }
 },
 "nbformat": 4,
 "nbformat_minor": 2
}
